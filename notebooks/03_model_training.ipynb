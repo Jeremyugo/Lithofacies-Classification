{
 "cells": [
  {
   "cell_type": "markdown",
   "metadata": {},
   "source": [
    "## Custom model training, Inference and Evaluation\n",
    "\n",
    "This notebook is intended for implementing the custom model training python script based on best parameters found in the first notebook"
   ]
  },
  {
   "cell_type": "code",
   "execution_count": 1,
   "metadata": {},
   "outputs": [],
   "source": [
    "# importing packages/modules\n",
    "\n",
    "import pandas as pd\n",
    "import numpy as np\n",
    "import sys\n",
    "sys.path.append(\"..\")\n",
    "from src.train import train_model\n",
    "from src.score import score\n",
    "from sklearn.metrics import f1_score\n",
    "import mlflow"
   ]
  },
  {
   "cell_type": "code",
   "execution_count": 2,
   "metadata": {},
   "outputs": [],
   "source": [
    "# defining dictionary to map our predictions to, for our custom score function\n",
    "\n",
    "lithology_keys = {\n",
    "    30000: 0,\n",
    "    65030: 1,\n",
    "    65000: 2,\n",
    "    80000: 3,\n",
    "    74000: 4,\n",
    "    70000: 5,\n",
    "    70032: 6,\n",
    "    88000: 7,\n",
    "    86000: 8,\n",
    "    99000: 9,\n",
    "    90000: 10,\n",
    "    93000: 11\n",
    "}"
   ]
  },
  {
   "cell_type": "code",
   "execution_count": 3,
   "metadata": {},
   "outputs": [],
   "source": [
    "# loading all available data \n",
    "\n",
    "X_train = pd.read_csv(\"../data/train.csv\", sep=\";\")\n",
    "target = X_train['FORCE_2020_LITHOFACIES_LITHOLOGY']\n",
    "X_train = X_train.drop(['FORCE_2020_LITHOFACIES_LITHOLOGY', 'FORCE_2020_LITHOFACIES_CONFIDENCE'], axis=1)\n",
    "\n",
    "X_test = pd.read_csv(\"../data/test.csv\", sep=\";\")\n",
    "y_test = pd.read_csv(\"../data/test_targets.csv\", sep=\";\")['FORCE_2020_LITHOFACIES_LITHOLOGY']\n",
    "y_test = y_test.map(lithology_keys)\n",
    "\n",
    "hidden_X_test = pd.read_csv(\"../data/hidden_test.csv\", sep=\";\")\n",
    "hidden_y_test = hidden_X_test['FORCE_2020_LITHOFACIES_LITHOLOGY']\n",
    "hidden_y_test = hidden_y_test.map(lithology_keys)"
   ]
  },
  {
   "cell_type": "markdown",
   "metadata": {},
   "source": [
    "## 1. Training"
   ]
  },
  {
   "cell_type": "code",
   "execution_count": 4,
   "metadata": {},
   "outputs": [
    {
     "name": "stderr",
     "output_type": "stream",
     "text": [
      "2024/08/06 00:32:43 WARNING mlflow.sklearn: Model was missing function: predict. Not logging python_function flavor!\n"
     ]
    },
    {
     "name": "stdout",
     "output_type": "stream",
     "text": [
      "step 1: Data Transformation Complete!\n",
      "\n"
     ]
    },
    {
     "name": "stderr",
     "output_type": "stream",
     "text": [
      "2024/08/06 00:32:45 WARNING mlflow.models.model: Input example should be provided to infer model signature if the model signature is not provided when logging the model.\n",
      "/home/ubuntu/miniconda3/envs/oil/lib/python3.11/site-packages/xgboost/core.py:158: UserWarning: [00:32:46] WARNING: /workspace/src/learner.cc:740: \n",
      "Parameters: { \"n_estimators\" } are not used.\n",
      "\n",
      "  warnings.warn(smsg, UserWarning)\n"
     ]
    },
    {
     "name": "stdout",
     "output_type": "stream",
     "text": [
      "\n",
      "step 2: Model Trained!\n",
      "\n"
     ]
    },
    {
     "name": "stderr",
     "output_type": "stream",
     "text": [
      "/home/ubuntu/miniconda3/envs/oil/lib/python3.11/site-packages/xgboost/core.py:158: UserWarning: [00:33:15] WARNING: /workspace/src/c_api/c_api.cc:1374: Saving model in the UBJSON format as default.  You can use file extension: `json`, `ubj` or `deprecated` to choose between formats.\n",
      "  warnings.warn(smsg, UserWarning)\n",
      "/home/ubuntu/miniconda3/envs/oil/lib/python3.11/site-packages/_distutils_hack/__init__.py:11: UserWarning: Distutils was imported before Setuptools, but importing Setuptools also replaces the `distutils` module in `sys.modules`. This may lead to undesirable behaviors or errors. To avoid these issues, avoid using distutils directly, ensure that setuptools is installed in the traditional way (e.g. not an editable install), and/or make sure that setuptools is always imported before distutils.\n",
      "  warnings.warn(\n",
      "/home/ubuntu/miniconda3/envs/oil/lib/python3.11/site-packages/_distutils_hack/__init__.py:26: UserWarning: Setuptools is replacing distutils.\n",
      "  warnings.warn(\"Setuptools is replacing distutils.\")\n",
      "2024/08/06 00:33:17 WARNING mlflow.models.model: Input example should be provided to infer model signature if the model signature is not provided when logging the model.\n"
     ]
    },
    {
     "name": "stdout",
     "output_type": "stream",
     "text": [
      "\n",
      "step 3: Model & Transformer have been logged!\n",
      "\n"
     ]
    },
    {
     "name": "stderr",
     "output_type": "stream",
     "text": [
      "2024/08/06 00:33:19 WARNING mlflow.models.model: Input example should be provided to infer model signature if the model signature is not provided when logging the model.\n"
     ]
    },
    {
     "name": "stdout",
     "output_type": "stream",
     "text": [
      "\n",
      "step 4: Custom model logged!\n"
     ]
    }
   ],
   "source": [
    "# training the custom model by calling the training script\n",
    "\n",
    "train_model(X_train, target)"
   ]
  },
  {
   "cell_type": "markdown",
   "metadata": {},
   "source": [
    "## 2. Evaluation \n",
    "\n",
    "**Remember that both test sets have different lithology distributions, so its expected that model performance will be lower, but how much lower?**"
   ]
  },
  {
   "cell_type": "code",
   "execution_count": 5,
   "metadata": {},
   "outputs": [],
   "source": [
    "# loading the custom mlflow model\n",
    "\n",
    "run_id = \"0ba34f33b03f477bb557bbcfd293609d\" # mlflow run_id\n",
    "custom_model = mlflow.pyfunc.load_model(f\"runs:/{run_id}/lithology_classifier\")"
   ]
  },
  {
   "cell_type": "code",
   "execution_count": 6,
   "metadata": {},
   "outputs": [],
   "source": [
    "# helper function for model evaluation\n",
    "\n",
    "def evaluate_model_performance(train, target, custom_model=custom_model):\n",
    "    y_pred = custom_model.predict(train)\n",
    "\n",
    "    score_ = score(target, y_pred)\n",
    "    f1score = f1_score(target, y_pred, average=\"weighted\")\n",
    "\n",
    "    print(f\"Custom score: {score_:.4f}\")\n",
    "    print(f\"f1-score: {f1score:.1%}\")"
   ]
  },
  {
   "cell_type": "markdown",
   "metadata": {},
   "source": [
    "### a. Train set"
   ]
  },
  {
   "cell_type": "code",
   "execution_count": 7,
   "metadata": {},
   "outputs": [
    {
     "name": "stdout",
     "output_type": "stream",
     "text": [
      "Custom score: -0.2969\n",
      "f1-score: 88.3%\n"
     ]
    }
   ],
   "source": [
    "evaluate_model_performance(X_train, target.map(lithology_keys).values)"
   ]
  },
  {
   "cell_type": "markdown",
   "metadata": {},
   "source": [
    "### b. Test set 1"
   ]
  },
  {
   "cell_type": "code",
   "execution_count": 8,
   "metadata": {},
   "outputs": [
    {
     "name": "stdout",
     "output_type": "stream",
     "text": [
      "Custom score: -0.5375\n",
      "f1-score: 77.5%\n"
     ]
    }
   ],
   "source": [
    "evaluate_model_performance(X_test, y_test)"
   ]
  },
  {
   "cell_type": "markdown",
   "metadata": {},
   "source": [
    "### c. Test set 2"
   ]
  },
  {
   "cell_type": "code",
   "execution_count": 9,
   "metadata": {},
   "outputs": [
    {
     "name": "stdout",
     "output_type": "stream",
     "text": [
      "Custom score: -0.4627\n",
      "f1-score: 80.0%\n"
     ]
    }
   ],
   "source": [
    "evaluate_model_performance(hidden_X_test, hidden_y_test)"
   ]
  },
  {
   "cell_type": "markdown",
   "metadata": {},
   "source": [
    "As expected, the model performs better on the train set, and poorer on both test sets. On average, there is a ~7.2% f1-score, and -0.16 custom score difference between all data sets."
   ]
  }
 ],
 "metadata": {
  "kernelspec": {
   "display_name": "oil",
   "language": "python",
   "name": "python3"
  },
  "language_info": {
   "codemirror_mode": {
    "name": "ipython",
    "version": 3
   },
   "file_extension": ".py",
   "mimetype": "text/x-python",
   "name": "python",
   "nbconvert_exporter": "python",
   "pygments_lexer": "ipython3",
   "version": "3.11.9"
  }
 },
 "nbformat": 4,
 "nbformat_minor": 2
}
